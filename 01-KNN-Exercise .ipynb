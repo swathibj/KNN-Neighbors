{
 "cells": [
  {
   "cell_type": "markdown",
   "metadata": {},
   "source": [
    "# KNN Project  \n",
    "\n",
    "Due to the simplicity of KNN for Classification, let's focus on using a PipeLine and a GridSearchCV tool, since these skills can be generalized for any model."
   ]
  },
  {
   "cell_type": "code",
   "execution_count": 1,
   "metadata": {},
   "outputs": [],
   "source": [
    "import numpy as np\n",
    "import pandas as pd\n",
    "import seaborn as sns\n",
    "import matplotlib.pyplot as plt"
   ]
  },
  {
   "cell_type": "code",
   "execution_count": 2,
   "metadata": {},
   "outputs": [],
   "source": [
    "df = pd.read_csv('../DATA/sonar.all-data.csv')"
   ]
  },
  {
   "cell_type": "code",
   "execution_count": 3,
   "metadata": {},
   "outputs": [
    {
     "data": {
      "text/html": [
       "<div>\n",
       "<style scoped>\n",
       "    .dataframe tbody tr th:only-of-type {\n",
       "        vertical-align: middle;\n",
       "    }\n",
       "\n",
       "    .dataframe tbody tr th {\n",
       "        vertical-align: top;\n",
       "    }\n",
       "\n",
       "    .dataframe thead th {\n",
       "        text-align: right;\n",
       "    }\n",
       "</style>\n",
       "<table border=\"1\" class=\"dataframe\">\n",
       "  <thead>\n",
       "    <tr style=\"text-align: right;\">\n",
       "      <th></th>\n",
       "      <th>Freq_1</th>\n",
       "      <th>Freq_2</th>\n",
       "      <th>Freq_3</th>\n",
       "      <th>Freq_4</th>\n",
       "      <th>Freq_5</th>\n",
       "      <th>Freq_6</th>\n",
       "      <th>Freq_7</th>\n",
       "      <th>Freq_8</th>\n",
       "      <th>Freq_9</th>\n",
       "      <th>Freq_10</th>\n",
       "      <th>...</th>\n",
       "      <th>Freq_52</th>\n",
       "      <th>Freq_53</th>\n",
       "      <th>Freq_54</th>\n",
       "      <th>Freq_55</th>\n",
       "      <th>Freq_56</th>\n",
       "      <th>Freq_57</th>\n",
       "      <th>Freq_58</th>\n",
       "      <th>Freq_59</th>\n",
       "      <th>Freq_60</th>\n",
       "      <th>Label</th>\n",
       "    </tr>\n",
       "  </thead>\n",
       "  <tbody>\n",
       "    <tr>\n",
       "      <th>0</th>\n",
       "      <td>0.0200</td>\n",
       "      <td>0.0371</td>\n",
       "      <td>0.0428</td>\n",
       "      <td>0.0207</td>\n",
       "      <td>0.0954</td>\n",
       "      <td>0.0986</td>\n",
       "      <td>0.1539</td>\n",
       "      <td>0.1601</td>\n",
       "      <td>0.3109</td>\n",
       "      <td>0.2111</td>\n",
       "      <td>...</td>\n",
       "      <td>0.0027</td>\n",
       "      <td>0.0065</td>\n",
       "      <td>0.0159</td>\n",
       "      <td>0.0072</td>\n",
       "      <td>0.0167</td>\n",
       "      <td>0.0180</td>\n",
       "      <td>0.0084</td>\n",
       "      <td>0.0090</td>\n",
       "      <td>0.0032</td>\n",
       "      <td>R</td>\n",
       "    </tr>\n",
       "    <tr>\n",
       "      <th>1</th>\n",
       "      <td>0.0453</td>\n",
       "      <td>0.0523</td>\n",
       "      <td>0.0843</td>\n",
       "      <td>0.0689</td>\n",
       "      <td>0.1183</td>\n",
       "      <td>0.2583</td>\n",
       "      <td>0.2156</td>\n",
       "      <td>0.3481</td>\n",
       "      <td>0.3337</td>\n",
       "      <td>0.2872</td>\n",
       "      <td>...</td>\n",
       "      <td>0.0084</td>\n",
       "      <td>0.0089</td>\n",
       "      <td>0.0048</td>\n",
       "      <td>0.0094</td>\n",
       "      <td>0.0191</td>\n",
       "      <td>0.0140</td>\n",
       "      <td>0.0049</td>\n",
       "      <td>0.0052</td>\n",
       "      <td>0.0044</td>\n",
       "      <td>R</td>\n",
       "    </tr>\n",
       "    <tr>\n",
       "      <th>2</th>\n",
       "      <td>0.0262</td>\n",
       "      <td>0.0582</td>\n",
       "      <td>0.1099</td>\n",
       "      <td>0.1083</td>\n",
       "      <td>0.0974</td>\n",
       "      <td>0.2280</td>\n",
       "      <td>0.2431</td>\n",
       "      <td>0.3771</td>\n",
       "      <td>0.5598</td>\n",
       "      <td>0.6194</td>\n",
       "      <td>...</td>\n",
       "      <td>0.0232</td>\n",
       "      <td>0.0166</td>\n",
       "      <td>0.0095</td>\n",
       "      <td>0.0180</td>\n",
       "      <td>0.0244</td>\n",
       "      <td>0.0316</td>\n",
       "      <td>0.0164</td>\n",
       "      <td>0.0095</td>\n",
       "      <td>0.0078</td>\n",
       "      <td>R</td>\n",
       "    </tr>\n",
       "    <tr>\n",
       "      <th>3</th>\n",
       "      <td>0.0100</td>\n",
       "      <td>0.0171</td>\n",
       "      <td>0.0623</td>\n",
       "      <td>0.0205</td>\n",
       "      <td>0.0205</td>\n",
       "      <td>0.0368</td>\n",
       "      <td>0.1098</td>\n",
       "      <td>0.1276</td>\n",
       "      <td>0.0598</td>\n",
       "      <td>0.1264</td>\n",
       "      <td>...</td>\n",
       "      <td>0.0121</td>\n",
       "      <td>0.0036</td>\n",
       "      <td>0.0150</td>\n",
       "      <td>0.0085</td>\n",
       "      <td>0.0073</td>\n",
       "      <td>0.0050</td>\n",
       "      <td>0.0044</td>\n",
       "      <td>0.0040</td>\n",
       "      <td>0.0117</td>\n",
       "      <td>R</td>\n",
       "    </tr>\n",
       "    <tr>\n",
       "      <th>4</th>\n",
       "      <td>0.0762</td>\n",
       "      <td>0.0666</td>\n",
       "      <td>0.0481</td>\n",
       "      <td>0.0394</td>\n",
       "      <td>0.0590</td>\n",
       "      <td>0.0649</td>\n",
       "      <td>0.1209</td>\n",
       "      <td>0.2467</td>\n",
       "      <td>0.3564</td>\n",
       "      <td>0.4459</td>\n",
       "      <td>...</td>\n",
       "      <td>0.0031</td>\n",
       "      <td>0.0054</td>\n",
       "      <td>0.0105</td>\n",
       "      <td>0.0110</td>\n",
       "      <td>0.0015</td>\n",
       "      <td>0.0072</td>\n",
       "      <td>0.0048</td>\n",
       "      <td>0.0107</td>\n",
       "      <td>0.0094</td>\n",
       "      <td>R</td>\n",
       "    </tr>\n",
       "  </tbody>\n",
       "</table>\n",
       "<p>5 rows × 61 columns</p>\n",
       "</div>"
      ],
      "text/plain": [
       "   Freq_1  Freq_2  Freq_3  Freq_4  Freq_5  Freq_6  Freq_7  Freq_8  Freq_9  \\\n",
       "0  0.0200  0.0371  0.0428  0.0207  0.0954  0.0986  0.1539  0.1601  0.3109   \n",
       "1  0.0453  0.0523  0.0843  0.0689  0.1183  0.2583  0.2156  0.3481  0.3337   \n",
       "2  0.0262  0.0582  0.1099  0.1083  0.0974  0.2280  0.2431  0.3771  0.5598   \n",
       "3  0.0100  0.0171  0.0623  0.0205  0.0205  0.0368  0.1098  0.1276  0.0598   \n",
       "4  0.0762  0.0666  0.0481  0.0394  0.0590  0.0649  0.1209  0.2467  0.3564   \n",
       "\n",
       "   Freq_10  ...  Freq_52  Freq_53  Freq_54  Freq_55  Freq_56  Freq_57  \\\n",
       "0   0.2111  ...   0.0027   0.0065   0.0159   0.0072   0.0167   0.0180   \n",
       "1   0.2872  ...   0.0084   0.0089   0.0048   0.0094   0.0191   0.0140   \n",
       "2   0.6194  ...   0.0232   0.0166   0.0095   0.0180   0.0244   0.0316   \n",
       "3   0.1264  ...   0.0121   0.0036   0.0150   0.0085   0.0073   0.0050   \n",
       "4   0.4459  ...   0.0031   0.0054   0.0105   0.0110   0.0015   0.0072   \n",
       "\n",
       "   Freq_58  Freq_59  Freq_60  Label  \n",
       "0   0.0084   0.0090   0.0032      R  \n",
       "1   0.0049   0.0052   0.0044      R  \n",
       "2   0.0164   0.0095   0.0078      R  \n",
       "3   0.0044   0.0040   0.0117      R  \n",
       "4   0.0048   0.0107   0.0094      R  \n",
       "\n",
       "[5 rows x 61 columns]"
      ]
     },
     "execution_count": 3,
     "metadata": {},
     "output_type": "execute_result"
    }
   ],
   "source": [
    "df.head()"
   ]
  },
  {
   "cell_type": "markdown",
   "metadata": {},
   "source": [
    "## Data Exploration\n",
    "\n",
    "**TASK: Create a heatmap of the correlation between the difference frequency responses.**"
   ]
  },
  {
   "cell_type": "code",
   "execution_count": 4,
   "metadata": {},
   "outputs": [
    {
     "data": {
      "image/png": "[encoded data removed]",
      "text/plain": [
       "<Figure size 720x576 with 2 Axes>"
      ]
     },
     "metadata": {
      "needs_background": "light"
     },
     "output_type": "display_data"
    }
   ],
   "source": [
    "plt.figure(figsize=(10,8))\n",
    "sns.heatmap(df.corr());"
   ]
  },
  {
   "cell_type": "markdown",
   "metadata": {},
   "source": [
    "What are the top 5 correlated frequencies with the target\\label?**"
   ]
  },
  {
   "cell_type": "code",
   "execution_count": 5,
   "metadata": {},
   "outputs": [],
   "source": [
    "df[\"Target\"] = df[\"Label\"].map({'M':1 , 'R':0})"
   ]
  },
  {
   "cell_type": "code",
   "execution_count": 6,
   "metadata": {},
   "outputs": [
    {
     "data": {
      "text/plain": [
       "M    111\n",
       "R     97\n",
       "Name: Label, dtype: int64"
      ]
     },
     "execution_count": 6,
     "metadata": {},
     "output_type": "execute_result"
    }
   ],
   "source": [
    "df[\"Label\"].value_counts()"
   ]
  },
  {
   "cell_type": "code",
   "execution_count": 7,
   "metadata": {
    "scrolled": true
   },
   "outputs": [
    {
     "data": {
      "text/plain": [
       "Freq_45    0.339406\n",
       "Freq_10    0.341142\n",
       "Freq_49    0.351312\n",
       "Freq_12    0.392245\n",
       "Freq_11    0.432855\n",
       "Target     1.000000\n",
       "Name: Target, dtype: float64"
      ]
     },
     "execution_count": 7,
     "metadata": {},
     "output_type": "execute_result"
    }
   ],
   "source": [
    "df.corr()[\"Target\"].sort_values().tail(6)"
   ]
  },
  {
   "cell_type": "markdown",
   "metadata": {},
   "source": [
    "## Train | Test Split\n",
    "\n",
    "Our approach here will be one of using Cross Validation on 90% of the dataset, and then judging our results on a final test set of 10% to evaluate our model.\n",
    "\n",
    "*Note: The solution uses a random_state=42*"
   ]
  },
  {
   "cell_type": "code",
   "execution_count": 8,
   "metadata": {},
   "outputs": [],
   "source": [
    "# CODE HERE\n",
    "from sklearn.model_selection import train_test_split\n",
    "from sklearn.preprocessing import StandardScaler\n",
    "from sklearn.neighbors import KNeighborsClassifier"
   ]
  },
  {
   "cell_type": "code",
   "execution_count": 9,
   "metadata": {},
   "outputs": [],
   "source": [
    "X = df.drop([\"Label\", \"Target\"], axis=1)\n",
    "y = df[\"Label\"]"
   ]
  },
  {
   "cell_type": "code",
   "execution_count": 10,
   "metadata": {},
   "outputs": [],
   "source": [
    "X_train, X_test, y_train, y_test = train_test_split(X, y, test_size=0.1, random_state=42)"
   ]
  },
  {
   "cell_type": "code",
   "execution_count": 11,
   "metadata": {},
   "outputs": [],
   "source": [
    "scaler = StandardScaler()\n",
    "knn_model = KNeighborsClassifier()"
   ]
  },
  {
   "cell_type": "markdown",
   "metadata": {},
   "source": [
    "Create a PipeLine that contains both a StandardScaler and a KNN model"
   ]
  },
  {
   "cell_type": "code",
   "execution_count": 12,
   "metadata": {},
   "outputs": [],
   "source": [
    "from sklearn.pipeline import Pipeline"
   ]
  },
  {
   "cell_type": "code",
   "execution_count": 13,
   "metadata": {},
   "outputs": [],
   "source": [
    "operations = [('scaler' , scaler), ('knn_model', knn_model)]"
   ]
  },
  {
   "cell_type": "code",
   "execution_count": 14,
   "metadata": {},
   "outputs": [],
   "source": [
    "pipe = Pipeline(operations)"
   ]
  },
  {
   "cell_type": "markdown",
   "metadata": {},
   "source": [
    "Perform a grid-search with the pipeline to test various values of k and report back the best performing parameters."
   ]
  },
  {
   "cell_type": "code",
   "execution_count": 15,
   "metadata": {},
   "outputs": [],
   "source": [
    "k_values = list(range(1,30))\n",
    "param_grid = {'knn_model__n_neighbors': k_values}"
   ]
  },
  {
   "cell_type": "code",
   "execution_count": 16,
   "metadata": {},
   "outputs": [],
   "source": [
    "from sklearn.model_selection import GridSearchCV"
   ]
  },
  {
   "cell_type": "code",
   "execution_count": 17,
   "metadata": {},
   "outputs": [],
   "source": [
    "full_cv_model = GridSearchCV(pipe,param_grid,\n",
    "                            cv=5,scoring='accuracy')"
   ]
  },
  {
   "cell_type": "code",
   "execution_count": 18,
   "metadata": {
    "scrolled": true
   },
   "outputs": [
    {
     "data": {
      "text/plain": [
       "GridSearchCV(cv=5,\n",
       "             estimator=Pipeline(steps=[('scaler', StandardScaler()),\n",
       "                                       ('knn_model', KNeighborsClassifier())]),\n",
       "             param_grid={'knn_model__n_neighbors': [1, 2, 3, 4, 5, 6, 7, 8, 9,\n",
       "                                                    10, 11, 12, 13, 14, 15, 16,\n",
       "                                                    17, 18, 19, 20, 21, 22, 23,\n",
       "                                                    24, 25, 26, 27, 28, 29]},\n",
       "             scoring='accuracy')"
      ]
     },
     "execution_count": 18,
     "metadata": {},
     "output_type": "execute_result"
    }
   ],
   "source": [
    "full_cv_model.fit(X_train, y_train)"
   ]
  },
  {
   "cell_type": "code",
   "execution_count": 19,
   "metadata": {},
   "outputs": [
    {
     "data": {
      "text/plain": [
       "{'memory': None,\n",
       " 'steps': [('scaler', StandardScaler()),\n",
       "  ('knn_model', KNeighborsClassifier(n_neighbors=1))],\n",
       " 'verbose': False,\n",
       " 'scaler': StandardScaler(),\n",
       " 'knn_model': KNeighborsClassifier(n_neighbors=1),\n",
       " 'scaler__copy': True,\n",
       " 'scaler__with_mean': True,\n",
       " 'scaler__with_std': True,\n",
       " 'knn_model__algorithm': 'auto',\n",
       " 'knn_model__leaf_size': 30,\n",
       " 'knn_model__metric': 'minkowski',\n",
       " 'knn_model__metric_params': None,\n",
       " 'knn_model__n_jobs': None,\n",
       " 'knn_model__n_neighbors': 1,\n",
       " 'knn_model__p': 2,\n",
       " 'knn_model__weights': 'uniform'}"
      ]
     },
     "execution_count": 19,
     "metadata": {},
     "output_type": "execute_result"
    }
   ],
   "source": [
    "full_cv_model.best_estimator_.get_params()"
   ]
  },
  {
   "cell_type": "markdown",
   "metadata": {},
   "source": [
    "Using the .cv_results_ dictionary, see if you can create a plot of the mean test scores per K value.**"
   ]
  },
  {
   "cell_type": "code",
   "execution_count": 20,
   "metadata": {},
   "outputs": [],
   "source": [
    "mean_test_score = full_cv_model.cv_results_[\"mean_test_score\"]"
   ]
  },
  {
   "cell_type": "code",
   "execution_count": 21,
   "metadata": {},
   "outputs": [
    {
     "data": {
      "text/plain": [
       "array([0.84537696, 0.78065434, 0.77524893, 0.75917496, 0.75931721,\n",
       "       0.74822191, 0.75945946, 0.71664296, 0.7113798 , 0.68421053,\n",
       "       0.70042674, 0.68435277, 0.68449502, 0.67908962, 0.69530583,\n",
       "       0.68990043, 0.7113798 , 0.70042674, 0.72204836, 0.67908962,\n",
       "       0.70071124, 0.69530583, 0.69530583, 0.68463727, 0.68477952,\n",
       "       0.67923186, 0.67411095, 0.65775249, 0.6685633 ])"
      ]
     },
     "execution_count": 21,
     "metadata": {},
     "output_type": "execute_result"
    }
   ],
   "source": [
    "mean_test_score"
   ]
  },
  {
   "cell_type": "code",
   "execution_count": 22,
   "metadata": {},
   "outputs": [
    {
     "data": {
      "text/plain": [
       "{'mean_fit_time': array([0.01016927, 0.00458746, 0.00578432, 0.00499268, 0.00480556,\n",
       "        0.00497637, 0.00538034, 0.00478716, 0.00498705, 0.00478334,\n",
       "        0.00479426, 0.0053854 , 0.00538549, 0.00478778, 0.00538545,\n",
       "        0.00478172, 0.00518222, 0.00518718, 0.00478711, 0.00558496,\n",
       "        0.00578442, 0.00498681, 0.00478735, 0.00538564, 0.00498672,\n",
       "        0.00538554, 0.00500488, 0.00539618, 0.00538507]),\n",
       " 'std_fit_time': array([6.16251230e-03, 4.88460995e-04, 3.98779215e-04, 1.23033227e-05,\n",
       "        3.87777012e-04, 1.79746738e-05, 4.82505637e-04, 3.98731488e-04,\n",
       "        1.21943587e-06, 3.96926348e-04, 4.03329902e-04, 4.88714053e-04,\n",
       "        4.88247037e-04, 3.99041614e-04, 4.88285706e-04, 4.07947970e-04,\n",
       "        4.00937641e-04, 3.98447954e-04, 3.98826685e-04, 4.88616621e-04,\n",
       "        1.16313736e-03, 6.30525281e-04, 3.99065060e-04, 4.88616597e-04,\n",
       "        1.78416128e-07, 4.88499843e-04, 6.48164751e-04, 4.80597437e-04,\n",
       "        4.88402647e-04]),\n",
       " 'mean_score_time': array([0.00498295, 0.00379047, 0.00398927, 0.00398307, 0.00377698,\n",
       "        0.00380425, 0.00418806, 0.01117048, 0.0041883 , 0.00399365,\n",
       "        0.00378251, 0.00438852, 0.00378962, 0.00398903, 0.00438824,\n",
       "        0.00399604, 0.00379567, 0.00378838, 0.00418863, 0.00418878,\n",
       "        0.00438828, 0.00398879, 0.00398908, 0.0039897 , 0.00418839,\n",
       "        0.00399237, 0.00417871, 0.00458336, 0.00418859]),\n",
       " 'std_score_time': array([2.09873758e-03, 3.99399743e-04, 2.78041453e-07, 8.98039681e-04,\n",
       "        3.77858184e-04, 4.06440856e-04, 3.98397574e-04, 1.43757641e-02,\n",
       "        3.98159027e-04, 1.08616346e-05, 3.95733331e-04, 4.88753142e-04,\n",
       "        3.98969778e-04, 1.78416128e-07, 4.88694457e-04, 2.00955042e-05,\n",
       "        4.05712025e-04, 4.00257877e-04, 7.46327427e-04, 3.98874297e-04,\n",
       "        4.88558226e-04, 6.46813391e-07, 6.30826412e-04, 7.53945746e-07,\n",
       "        3.98349762e-04, 6.04549788e-06, 4.51060061e-04, 4.93722545e-04,\n",
       "        3.99088956e-04]),\n",
       " 'param_knn_model__n_neighbors': masked_array(data=[1, 2, 3, 4, 5, 6, 7, 8, 9, 10, 11, 12, 13, 14, 15, 16,\n",
       "                    17, 18, 19, 20, 21, 22, 23, 24, 25, 26, 27, 28, 29],\n",
       "              mask=[False, False, False, False, False, False, False, False,\n",
       "                    False, False, False, False, False, False, False, False,\n",
       "                    False, False, False, False, False, False, False, False,\n",
       "                    False, False, False, False, False],\n",
       "        fill_value='?',\n",
       "             dtype=object),\n",
       " 'params': [{'knn_model__n_neighbors': 1},\n",
       "  {'knn_model__n_neighbors': 2},\n",
       "  {'knn_model__n_neighbors': 3},\n",
       "  {'knn_model__n_neighbors': 4},\n",
       "  {'knn_model__n_neighbors': 5},\n",
       "  {'knn_model__n_neighbors': 6},\n",
       "  {'knn_model__n_neighbors': 7},\n",
       "  {'knn_model__n_neighbors': 8},\n",
       "  {'knn_model__n_neighbors': 9},\n",
       "  {'knn_model__n_neighbors': 10},\n",
       "  {'knn_model__n_neighbors': 11},\n",
       "  {'knn_model__n_neighbors': 12},\n",
       "  {'knn_model__n_neighbors': 13},\n",
       "  {'knn_model__n_neighbors': 14},\n",
       "  {'knn_model__n_neighbors': 15},\n",
       "  {'knn_model__n_neighbors': 16},\n",
       "  {'knn_model__n_neighbors': 17},\n",
       "  {'knn_model__n_neighbors': 18},\n",
       "  {'knn_model__n_neighbors': 19},\n",
       "  {'knn_model__n_neighbors': 20},\n",
       "  {'knn_model__n_neighbors': 21},\n",
       "  {'knn_model__n_neighbors': 22},\n",
       "  {'knn_model__n_neighbors': 23},\n",
       "  {'knn_model__n_neighbors': 24},\n",
       "  {'knn_model__n_neighbors': 25},\n",
       "  {'knn_model__n_neighbors': 26},\n",
       "  {'knn_model__n_neighbors': 27},\n",
       "  {'knn_model__n_neighbors': 28},\n",
       "  {'knn_model__n_neighbors': 29}],\n",
       " 'split0_test_score': array([0.89473684, 0.89473684, 0.89473684, 0.89473684, 0.89473684,\n",
       "        0.89473684, 0.84210526, 0.78947368, 0.78947368, 0.76315789,\n",
       "        0.76315789, 0.76315789, 0.73684211, 0.76315789, 0.76315789,\n",
       "        0.73684211, 0.78947368, 0.78947368, 0.78947368, 0.76315789,\n",
       "        0.76315789, 0.76315789, 0.76315789, 0.76315789, 0.73684211,\n",
       "        0.76315789, 0.71052632, 0.73684211, 0.73684211]),\n",
       " 'split1_test_score': array([0.71052632, 0.68421053, 0.68421053, 0.65789474, 0.63157895,\n",
       "        0.68421053, 0.65789474, 0.63157895, 0.60526316, 0.65789474,\n",
       "        0.65789474, 0.63157895, 0.63157895, 0.60526316, 0.60526316,\n",
       "        0.63157895, 0.60526316, 0.63157895, 0.63157895, 0.60526316,\n",
       "        0.60526316, 0.60526316, 0.60526316, 0.57894737, 0.57894737,\n",
       "        0.57894737, 0.57894737, 0.57894737, 0.57894737]),\n",
       " 'split2_test_score': array([0.83783784, 0.81081081, 0.78378378, 0.78378378, 0.78378378,\n",
       "        0.72972973, 0.75675676, 0.78378378, 0.7027027 , 0.67567568,\n",
       "        0.67567568, 0.67567568, 0.7027027 , 0.67567568, 0.67567568,\n",
       "        0.7027027 , 0.7027027 , 0.7027027 , 0.7027027 , 0.72972973,\n",
       "        0.72972973, 0.75675676, 0.75675676, 0.75675676, 0.75675676,\n",
       "        0.75675676, 0.75675676, 0.72972973, 0.75675676]),\n",
       " 'split3_test_score': array([0.91891892, 0.7027027 , 0.72972973, 0.7027027 , 0.67567568,\n",
       "        0.64864865, 0.7027027 , 0.62162162, 0.67567568, 0.59459459,\n",
       "        0.64864865, 0.62162162, 0.62162162, 0.62162162, 0.67567568,\n",
       "        0.62162162, 0.67567568, 0.62162162, 0.67567568, 0.62162162,\n",
       "        0.67567568, 0.62162162, 0.64864865, 0.64864865, 0.67567568,\n",
       "        0.67567568, 0.64864865, 0.64864865, 0.64864865]),\n",
       " 'split4_test_score': array([0.86486486, 0.81081081, 0.78378378, 0.75675676, 0.81081081,\n",
       "        0.78378378, 0.83783784, 0.75675676, 0.78378378, 0.72972973,\n",
       "        0.75675676, 0.72972973, 0.72972973, 0.72972973, 0.75675676,\n",
       "        0.75675676, 0.78378378, 0.75675676, 0.81081081, 0.67567568,\n",
       "        0.72972973, 0.72972973, 0.7027027 , 0.67567568, 0.67567568,\n",
       "        0.62162162, 0.67567568, 0.59459459, 0.62162162]),\n",
       " 'mean_test_score': array([0.84537696, 0.78065434, 0.77524893, 0.75917496, 0.75931721,\n",
       "        0.74822191, 0.75945946, 0.71664296, 0.7113798 , 0.68421053,\n",
       "        0.70042674, 0.68435277, 0.68449502, 0.67908962, 0.69530583,\n",
       "        0.68990043, 0.7113798 , 0.70042674, 0.72204836, 0.67908962,\n",
       "        0.70071124, 0.69530583, 0.69530583, 0.68463727, 0.68477952,\n",
       "        0.67923186, 0.67411095, 0.65775249, 0.6685633 ]),\n",
       " 'std_test_score': array([0.07275456, 0.07773225, 0.07040318, 0.08054224, 0.0947646 ,\n",
       "        0.08612262, 0.07282517, 0.07441272, 0.06921244, 0.05848259,\n",
       "        0.04941827, 0.05489058, 0.04872595, 0.06065718, 0.05875115,\n",
       "        0.05459044, 0.06921244, 0.06641969, 0.06802109, 0.06065718,\n",
       "        0.05535494, 0.06797377, 0.06118727, 0.0691557 , 0.06206036,\n",
       "        0.07272174, 0.05977172, 0.0659059 , 0.06792821]),\n",
       " 'rank_test_score': array([ 1,  2,  3,  6,  5,  7,  4,  9, 10, 23, 13, 22, 21, 25, 15, 18, 10,\n",
       "        13,  8, 25, 12, 16, 16, 20, 19, 24, 27, 29, 28])}"
      ]
     },
     "execution_count": 22,
     "metadata": {},
     "output_type": "execute_result"
    }
   ],
   "source": [
    "full_cv_model.cv_results_"
   ]
  },
  {
   "cell_type": "code",
   "execution_count": 23,
   "metadata": {},
   "outputs": [
    {
     "data": {
      "image/png": "[encoded data removed]",
      "text/plain": [
       "<Figure size 432x288 with 1 Axes>"
      ]
     },
     "metadata": {
      "needs_background": "light"
     },
     "output_type": "display_data"
    }
   ],
   "source": [
    "plt.plot(k_values, mean_test_score,\"o-\")\n",
    "plt.xlabel(\"K Values\")\n",
    "plt.ylabel(\"Mean_Test_Score\");"
   ]
  },
  {
   "cell_type": "markdown",
   "metadata": {},
   "source": [
    "### Final Model Evaluation\n",
    "\n",
    "Using the grid classifier object from the previous step, get a final performance classification report and confusion matrix.**"
   ]
  },
  {
   "cell_type": "code",
   "execution_count": 24,
   "metadata": {},
   "outputs": [],
   "source": [
    "from sklearn.metrics import accuracy_score, confusion_matrix, classification_report"
   ]
  },
  {
   "cell_type": "code",
   "execution_count": 25,
   "metadata": {},
   "outputs": [],
   "source": [
    "final_pred = full_cv_model.predict(X_test)"
   ]
  },
  {
   "cell_type": "code",
   "execution_count": 26,
   "metadata": {},
   "outputs": [],
   "source": [
    "Accuracy_Score = accuracy_score(y_test, final_pred)"
   ]
  },
  {
   "cell_type": "code",
   "execution_count": 27,
   "metadata": {},
   "outputs": [
    {
     "data": {
      "text/plain": [
       "array([[12,  1],\n",
       "       [ 1,  7]], dtype=int64)"
      ]
     },
     "execution_count": 27,
     "metadata": {},
     "output_type": "execute_result"
    }
   ],
   "source": [
    "confusion_matrix(y_test , final_pred)"
   ]
  },
  {
   "cell_type": "code",
   "execution_count": 28,
   "metadata": {},
   "outputs": [
    {
     "name": "stdout",
     "output_type": "stream",
     "text": [
      "              precision    recall  f1-score   support\n",
      "\n",
      "           M       0.92      0.92      0.92        13\n",
      "           R       0.88      0.88      0.88         8\n",
      "\n",
      "    accuracy                           0.90        21\n",
      "   macro avg       0.90      0.90      0.90        21\n",
      "weighted avg       0.90      0.90      0.90        21\n",
      "\n"
     ]
    }
   ],
   "source": [
    "print(classification_report(y_test , final_pred))"
   ]
  }
 ],
 "metadata": {
  "kernelspec": {
   "display_name": "Python 3",
   "language": "python",
   "name": "python3"
  },
  "language_info": {
   "codemirror_mode": {
    "name": "ipython",
    "version": 3
   },
   "file_extension": ".py",
   "mimetype": "text/x-python",
   "name": "python",
   "nbconvert_exporter": "python",
   "pygments_lexer": "ipython3",
   "version": "3.7.9"
  }
 },
 "nbformat": 4,
 "nbformat_minor": 4
}
